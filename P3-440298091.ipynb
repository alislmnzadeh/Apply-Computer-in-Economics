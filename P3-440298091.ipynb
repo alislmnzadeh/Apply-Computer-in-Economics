{
 "cells": [
  {
   "cell_type": "markdown",
   "metadata": {},
   "source": [
    "<p style='color:dark green;font-size:2.1em;text-align:center;direction:rtl;font-family:B koodak'>پروژه شماره سه</p>"
   ]
  },
  {
   "cell_type": "markdown",
   "metadata": {},
   "source": [
    "<p style='color:red;font-size:2.1em;text-align:center;direction:rtl;font-family:B koodak'>سوال اول</p>\n",
    "<p style='color:dark orange;font-size:2.1em;text-align:center;direction:rtl;font-family:B koodak'>خواندن قیمت ها"
   ]
  },
  {
   "cell_type": "code",
   "execution_count": 1,
   "metadata": {},
   "outputs": [],
   "source": [
    "import numpy as np"
   ]
  },
  {
   "cell_type": "code",
   "execution_count": 2,
   "metadata": {},
   "outputs": [
    {
     "data": {
      "text/plain": [
       "array([['571', '428', '578', ..., '160', '520', '327'],\n",
       "       ['249', '952', '996', ..., '283', '674', '456'],\n",
       "       ['685', '661', '132', ..., '44', '4', '133'],\n",
       "       ...,\n",
       "       ['607', '443', '190', ..., '860', '267', '301'],\n",
       "       ['213', '400', '232', ..., '139', '662', '427'],\n",
       "       ['477', '172', '970', ..., '450', '343', '533']], dtype='<U5')"
      ]
     },
     "metadata": {},
     "output_type": "display_data"
    }
   ],
   "source": [
    "file=open('P3_1.csv','r')\n",
    "pr_com1=file.read()\n",
    "pr_com1=pr_com1.split()\n",
    "pr_com1=list(pr_com1[1::])\n",
    "price_companies_list1=[]\n",
    "price_companies_list2=[]\n",
    "for j in pr_com1:\n",
    "    price=j.split(',')\n",
    "    price_companies_list1.append(price)\n",
    "for i in price_companies_list1:\n",
    "    price_companies_list2.append(i[1::])\n",
    "pr_co1=np.array(price_companies_list2)\n",
    "pr_co2=np.copy(pr_co1) \n",
    "display(pr_co1)"
   ]
  },
  {
   "cell_type": "markdown",
   "metadata": {},
   "source": [
    "<p style='color:red;font-size:2.1em;text-align:center;direction:rtl;font-family:B koodak'>سوال دوم</p>\n",
    "<p style='color:dark orange;font-size:2.1em;text-align:center;direction:rtl;font-family:B koodak'>اصلاح قیمت ها</p>"
   ]
  },
  {
   "cell_type": "code",
   "execution_count": 3,
   "metadata": {},
   "outputs": [],
   "source": [
    "def num_of_na(x):\n",
    "    n_na=0\n",
    "    n_na_list=[]\n",
    "    for i in range(x.shape[0]):\n",
    "        n_na=0\n",
    "        for j in range(x.shape[1]):\n",
    "            if x[i,j]=='N/A':\n",
    "                n_na+=1\n",
    "        n_na_list.append(n_na) \n",
    "    return(np.array(n_na_list))   "
   ]
  },
  {
   "cell_type": "code",
   "execution_count": 4,
   "metadata": {},
   "outputs": [
    {
     "name": "stdout",
     "output_type": "stream",
     "text": [
      "[507.9 745.4 499.  ... 417.3 458.3 513.5] [217.65957365 489.3649354  363.39290032 ... 217.37389448 202.97194387\n",
      " 300.61146019]\n"
     ]
    },
    {
     "data": {
      "text/plain": [
       "array([], dtype=int32)"
      ]
     },
     "execution_count": 4,
     "metadata": {},
     "output_type": "execute_result"
    }
   ],
   "source": [
    "def num_of_outiler(x):    \n",
    "    x=np.where(x=='N/A','500',x)\n",
    "    x=x.astype(int)\n",
    "    mean_arr_r=np.mean(x,axis=1)\n",
    "    std_arr_r=np.std(x,axis=1)\n",
    "    std_arr_c=np.std(x,axis=0)\n",
    "    mean_arr_c=np.mean(x,axis=0)\n",
    "    list_up_out=[]\n",
    "    list_down_out=[]\n",
    "    print(mean_arr_r,std_arr_r)\n",
    "    for i in range(0,1004):\n",
    "        up_outiler=mean_arr_r[i]+3*std_arr_r[i]\n",
    "        down_outiler=mean_arr_r[i]-3*std_arr_r[i]\n",
    "        list_up_out.append(up_outiler)\n",
    "        list_down_out.append(down_outiler)    \n",
    "    up_outiler_arr=np.array(list_up_out)\n",
    "    down_outiler_arr=np.array(list_down_out)\n",
    "    n_outiler=0\n",
    "    n_outiler_list=[]\n",
    "    for i in range(0,1004):\n",
    "        for j in range(0,10):\n",
    "            if x[i][j]>up_outiler_arr[i] or x[i][j]<down_outiler_arr[i] :\n",
    "                x[i][j]=mean_arr_c[j]\n",
    "                n_outiler+=1\n",
    "        n_outiler_list.append(n_outiler)\n",
    "    return(np.array(n_outiler_list)) \n",
    "ar1=num_of_outiler(pr_co1) \n",
    "ar1[ar1>0]"
   ]
  },
  {
   "cell_type": "code",
   "execution_count": 5,
   "metadata": {},
   "outputs": [
    {
     "name": "stdout",
     "output_type": "stream",
     "text": [
      "[507.9 745.4 499.  ... 417.3 458.3 513.5] [217.65957365 489.3649354  363.39290032 ... 217.37389448 202.97194387\n",
      " 300.61146019]\n"
     ]
    },
    {
     "data": {
      "text/plain": [
       "array([[571, 428, 578, ..., 160, 520, 327],\n",
       "       [249, 952, 996, ..., 283, 674, 456],\n",
       "       [685, 661, 132, ...,  44,   4, 133],\n",
       "       ...,\n",
       "       [607, 443, 190, ..., 860, 267, 301],\n",
       "       [213, 400, 232, ..., 139, 662, 427],\n",
       "       [477, 172, 970, ..., 450, 343, 533]])"
      ]
     },
     "metadata": {},
     "output_type": "display_data"
    },
    {
     "data": {
      "text/plain": [
       "(1003, 10)"
      ]
     },
     "execution_count": 5,
     "metadata": {},
     "output_type": "execute_result"
    }
   ],
   "source": [
    "delete_arr=num_of_outiler(pr_co1)+num_of_na(pr_co1)\n",
    "new_pr_co1=np.delete(pr_co1,np.where(delete_arr>3),axis=0)\n",
    "new_pr_co1=np.where(new_pr_co1=='N/A','500',new_pr_co1)\n",
    "new_pr_co1=new_pr_co1.astype(int)\n",
    "display(new_pr_co1)\n",
    "new_pr_co1.shape"
   ]
  },
  {
   "cell_type": "markdown",
   "metadata": {},
   "source": [
    "<p style='color:red;font-size:2.1em;text-align:center;direction:rtl;font-family:B koodak'>سوال سوم</p>\n",
    "<p style='color:dark orange;font-size:2.1em;text-align:center;direction:rtl;font-family:B koodak'>نمونه گیری</p>"
   ]
  },
  {
   "cell_type": "code",
   "execution_count": 6,
   "metadata": {},
   "outputs": [],
   "source": [
    "def mean_10_to_10030(x):    \n",
    "    list_mean=[]\n",
    "    for i in range(0,1003):\n",
    "        mean=np.mean(x[i:,0:])\n",
    "        list_mean.append(mean)\n",
    "    list_mean.reverse()\n",
    "    arr_mean=np.array(list_mean)\n",
    "    return(arr_mean)"
   ]
  },
  {
   "cell_type": "code",
   "execution_count": 7,
   "metadata": {},
   "outputs": [],
   "source": [
    "def  std_10_to_10030(x):\n",
    "    list_std=[]\n",
    "    for i in range(0,1003):\n",
    "        std=np.std(x[i:,0:])\n",
    "        list_std.append(std)\n",
    "    list_std.reverse()\n",
    "    arr_std=np.array(list_std)\n",
    "    return(arr_std)"
   ]
  },
  {
   "cell_type": "code",
   "execution_count": 8,
   "metadata": {},
   "outputs": [],
   "source": [
    "import matplotlib.pyplot as plt\n",
    "def line_plot(sample, name):\n",
    "    plt.plot(range(len(sample)), sample)\n",
    "    plt.xlabel('Number of Data')\n",
    "    plt.ylabel('Values')\n",
    "    plt.legend([name])\n",
    "    plt.show()"
   ]
  },
  {
   "cell_type": "markdown",
   "metadata": {},
   "source": [
    "<p style='color:dark blue;font-size:1.2em;text-align:center;direction:rtl;font-family:B koodak'>با افزایش اندازه نمونه نتایج دقیق تر و اختلاف نتایج با هم به حداقل می رسد</p>"
   ]
  },
  {
   "cell_type": "code",
   "execution_count": 9,
   "metadata": {},
   "outputs": [
    {
     "data": {
      "image/png": "[encoded data removed]",
      "text/plain": [
       "<Figure size 432x288 with 1 Axes>"
      ]
     },
     "metadata": {
      "needs_background": "light"
     },
     "output_type": "display_data"
    },
    {
     "data": {
      "image/png": "[encoded data removed]",
      "text/plain": [
       "<Figure size 432x288 with 1 Axes>"
      ]
     },
     "metadata": {
      "needs_background": "light"
     },
     "output_type": "display_data"
    }
   ],
   "source": [
    "line_plot(std_10_to_10030(new_pr_co1),'STD of All')\n",
    "line_plot(mean_10_to_10030(new_pr_co1),'MEAN of All')"
   ]
  },
  {
   "cell_type": "markdown",
   "metadata": {},
   "source": [
    "<p style='color:red;font-size:2.1em;text-align:center;direction:rtl;font-family:B koodak'>سوال جهارم</p>\n",
    "<p style='color:dark orange;font-size:2.1em;text-align:center;direction:rtl;font-family:B koodak'>همبستگی</p>"
   ]
  },
  {
   "cell_type": "code",
   "execution_count": 11,
   "metadata": {},
   "outputs": [
    {
     "data": {
      "text/latex": [
       "$\\displaystyle \\frac{\\sum_{i=0}^{n} \\left(- \\bar{x} + {x}_{i}\\right) \\left(- \\bar{y} + {y}_{i}\\right)}{\\sqrt{\\left(\\sum_{i=0}^{n} \\left(- \\bar{x} + {x}_{i}\\right)^{2}\\right) \\sum_{i=0}^{n} \\left(- \\bar{y} + {y}_{i}\\right)^{2}}}$"
      ],
      "text/plain": [
       "Sum((-xbar + x[i])*(-ybar + y[i]), (i, 0, n))/sqrt(Sum((-xbar + x[i])**2, (i, 0, n))*Sum((-ybar + y[i])**2, (i, 0, n)))"
      ]
     },
     "metadata": {},
     "output_type": "display_data"
    },
    {
     "data": {
      "text/plain": [
       "array([[571, 428, 578, ..., 160, 520, 327],\n",
       "       [249, 952, 996, ..., 283, 674, 456],\n",
       "       [685, 661, 132, ...,  44,   4, 133],\n",
       "       ...,\n",
       "       [607, 443, 190, ..., 860, 267, 301],\n",
       "       [213, 400, 232, ..., 139, 662, 427],\n",
       "       [477, 172, 970, ..., 450, 343, 533]])"
      ]
     },
     "metadata": {},
     "output_type": "display_data"
    },
    {
     "name": "stdout",
     "output_type": "stream",
     "text": [
      "[array([571, 249, 685, ..., 607, 213, 477]), array([428, 952, 661, ..., 443, 400, 172]), array([578, 996, 132, ..., 190, 232, 970]), array([ 206, 2000,  767, ...,  424,  585,  918]), array([813, 860, 982, ..., 643, 683, 428]), array([823, 603, 969, ..., 325, 492,   0]), array([653, 381, 613, ..., 113, 750, 844]), array([160, 283,  44, ..., 860, 139, 450]), array([520, 674,   4, ..., 267, 662, 343]), array([327, 456, 133, ..., 301, 427, 533])]\n"
     ]
    }
   ],
   "source": [
    "import sympy\n",
    "n,x,y,xbar,ybar,i=sympy.symbols('n,x,y,xbar,ybar,i')\n",
    "sigma_x=(sympy.Indexed(x,i)-(xbar))\n",
    "sigma_y=(sympy.Indexed(y,i)-(ybar))\n",
    "numerator=sympy.Sum((sigma_x*sigma_y),(i,0,n))\n",
    "denumerator=sympy.sqrt(sympy.Sum((sigma_x**2),(i,0,n))*sympy.Sum((sigma_y**2),(i,0,n)))\n",
    "r_xy=numerator/denumerator\n",
    "display(r_xy)\n",
    "f=sympy.lambdify([x,xbar,y,ybar,n],r_xy)\n",
    "display(new_pr_co1)\n",
    "price_list1=[]\n",
    "corr_list1=[]\n",
    "for i in range(0,10):    \n",
    "    price_list1.append(new_pr_co1[0:,i])\n",
    "for i in price_list1:\n",
    "    for j in price_list1:\n",
    "        a=f(i,i.mean(),j,j.mean(),1002)\n",
    "        corr_list1.append(str(int(a*100)/100))\n",
    "print(price_list1)        \n",
    "# import datetime as Dt\n",
    "# a=Dt.datetime.now()\n",
    "# comp_str=f'{a},A,B,C,D,E,F,G,H,I,J'\n",
    "# li1=['\\nA','\\nB','\\nC','\\nD','\\nE','\\nF','\\nG','\\nH','\\nI','\\nJ']\n",
    "# li2=[i for i in range(0,len(corr_list1)+10,11)]\n",
    "# for i in range(0,10):\n",
    "#     corr_list1.insert(li2[i],li1[i]) \n",
    "# corr_list1.insert(0,comp_str)\n",
    "# corr=','.join(corr_list1)\n",
    "# print(corr)\n",
    "# import os\n",
    "# os.mkdir('P3_corr')\n",
    "# os.chdir('C:\\\\Users\\\\VAIO\\\\Desktop\\\\Numpy\\\\Project3\\\\P3_corr')\n",
    "# file=open('P3_2.csv','w')\n",
    "# file.write(corr)\n",
    "# file.close()"
   ]
  },
  {
   "cell_type": "markdown",
   "metadata": {},
   "source": [
    "<p style='color:red;font-size:2.1em;text-align:center;direction:rtl;font-family:B koodak'>سوال پنجم</p>\n",
    "<p style='color:dark orange;font-size:2.1em;text-align:center;direction:rtl;font-family:B koodak'>انحراف معیار</p>"
   ]
  },
  {
   "cell_type": "code",
   "execution_count": null,
   "metadata": {},
   "outputs": [],
   "source": [
    "n,x,xbar,i=sympy.symbols('n,x,xbar,i')\n",
    "sigma_x=(sympy.Indexed(x,i)-(xbar))\n",
    "std=sympy.sqrt((1/(n-1))*sympy.Sum((sigma_x**2),(i,0,n)))\n",
    "display(std)\n",
    "f=sympy.lambdify([x,xbar,n],std)\n",
    "f(new_pr_co1,new_pr_co1.mean(),10)"
   ]
  }
 ],
 "metadata": {
  "kernelspec": {
   "display_name": "Python 3",
   "language": "python",
   "name": "python3"
  },
  "language_info": {
   "codemirror_mode": {
    "name": "ipython",
    "version": 3
   },
   "file_extension": ".py",
   "mimetype": "text/x-python",
   "name": "python",
   "nbconvert_exporter": "python",
   "pygments_lexer": "ipython3",
   "version": "3.7.4"
  }
 },
 "nbformat": 4,
 "nbformat_minor": 2
}
